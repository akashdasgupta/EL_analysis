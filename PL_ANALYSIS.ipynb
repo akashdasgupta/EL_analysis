{
 "cells": [
  {
   "cell_type": "markdown",
   "id": "accomplished-cornell",
   "metadata": {},
   "source": [
    "# EL ANALYSIS\n",
    "* Hi! This notebook is for analysis of EL data. \n",
    "* I am assuming your data is organised in this format: [Path to all the data]\\\\[name of sample]\\\\[Pixel number]. \n",
    "    * These will have a bunch of images, a folder called 'refs', a folder called 'white'and a csv file called IV\n",
    "    \n",
    "### Some instructions: \n",
    "* Please run each cell in order, following the instructions\n",
    "* Have at hand your datapath, and the path you would like to save the data in\n",
    "    * The outputs will sometimes show here but all of it is saved in the folder you provide\n",
    "* Press cntrl+enter to run a cell\n",
    "* When prompted enter information into the feilds and press enter\n",
    "* If you go back and re run a cell, that's fine but you have to run every cell after that again, and in order\n",
    "\n",
    "This might break if all these files are not there! If you want to edit this code definately go ahead, a bunch of the functions live in seperate .py files, BUT please make a copy!!!\n",
    "\n",
    "SEE LAST PANEL FOR BASIC HELP IF YOU HAVE DIFFICULTY"
   ]
  },
  {
   "cell_type": "code",
   "execution_count": null,
   "id": "activated-depression",
   "metadata": {},
   "outputs": [],
   "source": [
    "# Some imports:\n",
    "from external_imports import *\n",
    "from image_process import *"
   ]
  },
  {
   "cell_type": "code",
   "execution_count": null,
   "id": "solar-converter",
   "metadata": {},
   "outputs": [],
   "source": [
    "datapath = input(\"Please enter the data path (where your data lives): \")\n",
    "savepath = input(\"Please enter Where the data should be saver: \")\n",
    "\n"
   ]
  },
  {
   "cell_type": "markdown",
   "id": "robust-equity",
   "metadata": {},
   "source": [
    "### STEP 1: Process the i"
   ]
  },
  {
   "cell_type": "code",
   "execution_count": null,
   "id": "center-savage",
   "metadata": {},
   "outputs": [],
   "source": []
  },
  {
   "cell_type": "code",
   "execution_count": null,
   "id": "portable-japanese",
   "metadata": {},
   "outputs": [],
   "source": []
  },
  {
   "cell_type": "code",
   "execution_count": null,
   "id": "lonely-symphony",
   "metadata": {},
   "outputs": [],
   "source": []
  },
  {
   "cell_type": "code",
   "execution_count": null,
   "id": "nuclear-march",
   "metadata": {},
   "outputs": [],
   "source": []
  },
  {
   "cell_type": "code",
   "execution_count": null,
   "id": "fifteen-modification",
   "metadata": {},
   "outputs": [],
   "source": []
  },
  {
   "cell_type": "code",
   "execution_count": null,
   "id": "brown-maryland",
   "metadata": {},
   "outputs": [],
   "source": []
  },
  {
   "cell_type": "code",
   "execution_count": null,
   "id": "educated-category",
   "metadata": {},
   "outputs": [],
   "source": []
  },
  {
   "cell_type": "code",
   "execution_count": null,
   "id": "flying-winter",
   "metadata": {},
   "outputs": [],
   "source": []
  }
 ],
 "metadata": {
  "kernelspec": {
   "display_name": "Python 3",
   "language": "python",
   "name": "python3"
  },
  "language_info": {
   "codemirror_mode": {
    "name": "ipython",
    "version": 3
   },
   "file_extension": ".py",
   "mimetype": "text/x-python",
   "name": "python",
   "nbconvert_exporter": "python",
   "pygments_lexer": "ipython3",
   "version": "3.8.5"
  }
 },
 "nbformat": 4,
 "nbformat_minor": 5
}
